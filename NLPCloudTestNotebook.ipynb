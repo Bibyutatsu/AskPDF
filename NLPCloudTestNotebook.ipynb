{
 "cells": [
  {
   "cell_type": "code",
   "execution_count": 1,
   "id": "2ba66005-617d-4830-a420-d97246387bb4",
   "metadata": {},
   "outputs": [],
   "source": [
    "# import json\n",
    "# import requests\n",
    "# API_URL = \"https://api.nlpcloud.io/v1/gpu/finetuned-gpt-neox-20b/generation\"\n",
    "# API_TOKEN = \"<API Token here>\"\n",
    "# headers = {\"Authorization\": f\"Token {API_TOKEN}\",\n",
    "#            \"Content-Type\": \"application/json\"}\n",
    "# def query(payload):\n",
    "#     data = json.dumps(payload)\n",
    "#     response = requests.request(\"POST\", API_URL, headers=headers, data=data)\n",
    "#     return json.loads(response.content.decode(\"utf-8\"))\n",
    "# data = query({\"text\": \"What is the name of Alexander's horse?\"})"
   ]
  },
  {
   "cell_type": "code",
   "execution_count": 2,
   "id": "050095b7-b811-4d97-b8ad-2d0f3ce5cd5f",
   "metadata": {
    "scrolled": true,
    "tags": []
   },
   "outputs": [],
   "source": [
    "import os\n",
    "\n",
    "os.environ[\"NLPCLOUD_API_KEY\"] = \"<API Token here>\""
   ]
  },
  {
   "cell_type": "code",
   "execution_count": 3,
   "id": "b89b6557-212f-40b0-9470-2d941e919fa7",
   "metadata": {
    "scrolled": true,
    "tags": []
   },
   "outputs": [],
   "source": [
    "from askpdf.process import (\n",
    "    embed_docs,\n",
    "    get_answer,\n",
    "    get_sources,\n",
    "    parse_pdf,\n",
    "    text_to_docs,\n",
    "    get_images,\n",
    "    get_source_dict,\n",
    "    get_source_images\n",
    ")"
   ]
  },
  {
   "cell_type": "code",
   "execution_count": 6,
   "id": "c544c4bd-e7fe-4896-ac97-590c400dc5e6",
   "metadata": {},
   "outputs": [],
   "source": [
    "pdf = \"./test/employment_agreement.pdf\"\n",
    "with open(pdf, 'rb') as pdffile:\n",
    "    texts, images, text_blocks = parse_pdf(pdffile)\n",
    "docs = text_to_docs(texts)"
   ]
  },
  {
   "cell_type": "code",
   "execution_count": 7,
   "id": "860c6e2a-4aa9-4dfa-9cd9-d28c87ff9edf",
   "metadata": {},
   "outputs": [
    {
     "name": "stderr",
     "output_type": "stream",
     "text": [
      "/Users/oindrila/opt/anaconda3/envs/qamodel/lib/python3.10/site-packages/tqdm/auto.py:21: TqdmWarning: IProgress not found. Please update jupyter and ipywidgets. See https://ipywidgets.readthedocs.io/en/stable/user_install.html\n",
      "  from .autonotebook import tqdm as notebook_tqdm\n"
     ]
    }
   ],
   "source": [
    "index = embed_docs(docs)"
   ]
  },
  {
   "cell_type": "code",
   "execution_count": 8,
   "id": "8942d60d-d365-40cd-8f2e-0cd6695760f6",
   "metadata": {},
   "outputs": [
    {
     "name": "stdout",
     "output_type": "stream",
     "text": [
      "{'output_text': \" The document is an Employment Agreement, which outlines various provisions related to the employment of the Executive by the Company, such as the definition of the Company, the inurement of rights to the Executive's successors, notice provisions, modifications and waivers, and arbitration provisions. It is not safe to sign the document without reading it.\\nSOURCES: 1-0, 6-0, 6-1, 7-1, 7-6\"}\n"
     ]
    }
   ],
   "source": [
    "query = \"What is written in the document? Is it safe to be signed without reading?\"\n",
    "sources = index.similarity_search(query, k=5)\n",
    "answer = get_answer(sources, query)\n",
    "print(answer['output_text'])"
   ]
  },
  {
   "cell_type": "code",
   "execution_count": null,
   "id": "4d9a4234-d537-4d6b-9aac-7a9465100d6b",
   "metadata": {},
   "outputs": [],
   "source": []
  }
 ],
 "metadata": {
  "kernelspec": {
   "display_name": "qamodel",
   "language": "python",
   "name": "qamodel"
  },
  "language_info": {
   "codemirror_mode": {
    "name": "ipython",
    "version": 3
   },
   "file_extension": ".py",
   "mimetype": "text/x-python",
   "name": "python",
   "nbconvert_exporter": "python",
   "pygments_lexer": "ipython3",
   "version": "3.10.11"
  }
 },
 "nbformat": 4,
 "nbformat_minor": 5
}
